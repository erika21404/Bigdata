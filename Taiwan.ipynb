{
 "cells": [
  {
   "cell_type": "code",
   "execution_count": 2,
   "metadata": {},
   "outputs": [],
   "source": [
    "import pandas as pd\n",
    "import matplotlib.pyplot as plt\n",
    "from sklearn.linear_model import LinearRegression\n",
    "data = pd.read_csv('taiwan.csv', index_col=0)"
   ]
  },
  {
   "cell_type": "code",
   "execution_count": 3,
   "metadata": {},
   "outputs": [
    {
     "data": {
      "text/html": [
       "<div>\n",
       "<style scoped>\n",
       "    .dataframe tbody tr th:only-of-type {\n",
       "        vertical-align: middle;\n",
       "    }\n",
       "\n",
       "    .dataframe tbody tr th {\n",
       "        vertical-align: top;\n",
       "    }\n",
       "\n",
       "    .dataframe thead th {\n",
       "        text-align: right;\n",
       "    }\n",
       "</style>\n",
       "<table border=\"1\" class=\"dataframe\">\n",
       "  <thead>\n",
       "    <tr style=\"text-align: right;\">\n",
       "      <th></th>\n",
       "      <th>Rank</th>\n",
       "      <th>No.of students</th>\n",
       "      <th>No. of students per staff</th>\n",
       "      <th>Female:male ratio</th>\n",
       "      <th>Status</th>\n",
       "      <th>expenses thous$</th>\n",
       "    </tr>\n",
       "    <tr>\n",
       "      <th>Name</th>\n",
       "      <th></th>\n",
       "      <th></th>\n",
       "      <th></th>\n",
       "      <th></th>\n",
       "      <th></th>\n",
       "      <th></th>\n",
       "    </tr>\n",
       "  </thead>\n",
       "  <tbody>\n",
       "    <tr>\n",
       "      <th>National Taiwan University</th>\n",
       "      <td>26</td>\n",
       "      <td>32</td>\n",
       "      <td>11.5</td>\n",
       "      <td>0.67</td>\n",
       "      <td>public</td>\n",
       "      <td>2.0</td>\n",
       "    </tr>\n",
       "    <tr>\n",
       "      <th>National Tsing Hua University</th>\n",
       "      <td>36</td>\n",
       "      <td>10</td>\n",
       "      <td>13.8</td>\n",
       "      <td>0.49</td>\n",
       "      <td>public</td>\n",
       "      <td>0.8</td>\n",
       "    </tr>\n",
       "    <tr>\n",
       "      <th>National Taiwan University of Science and Technology</th>\n",
       "      <td>42</td>\n",
       "      <td>8</td>\n",
       "      <td>18.7</td>\n",
       "      <td>0.43</td>\n",
       "      <td>public</td>\n",
       "      <td>0.9</td>\n",
       "    </tr>\n",
       "    <tr>\n",
       "      <th>National Chiao Tung University</th>\n",
       "      <td>48</td>\n",
       "      <td>12</td>\n",
       "      <td>14.7</td>\n",
       "      <td>0.39</td>\n",
       "      <td>public</td>\n",
       "      <td>0.8</td>\n",
       "    </tr>\n",
       "    <tr>\n",
       "      <th>National Cheng Kung University (NCKU)</th>\n",
       "      <td>58</td>\n",
       "      <td>21</td>\n",
       "      <td>14.4</td>\n",
       "      <td>0.56</td>\n",
       "      <td>public</td>\n",
       "      <td>0.8</td>\n",
       "    </tr>\n",
       "  </tbody>\n",
       "</table>\n",
       "</div>"
      ],
      "text/plain": [
       "                                                    Rank  No.of students  \\\n",
       "Name                                                                       \n",
       "National Taiwan University                            26              32   \n",
       "National Tsing Hua University                         36              10   \n",
       "National Taiwan University of Science and Techn...    42               8   \n",
       "National Chiao Tung University                        48              12   \n",
       "National Cheng Kung University (NCKU)                 58              21   \n",
       "\n",
       "                                                    No. of students per staff  \\\n",
       "Name                                                                            \n",
       "National Taiwan University                                               11.5   \n",
       "National Tsing Hua University                                            13.8   \n",
       "National Taiwan University of Science and Techn...                       18.7   \n",
       "National Chiao Tung University                                           14.7   \n",
       "National Cheng Kung University (NCKU)                                    14.4   \n",
       "\n",
       "                                                   Female:male ratio  Status  \\\n",
       "Name                                                                           \n",
       "National Taiwan University                                      0.67  public   \n",
       "National Tsing Hua University                                   0.49  public   \n",
       "National Taiwan University of Science and Techn...              0.43  public   \n",
       "National Chiao Tung University                                  0.39  public   \n",
       "National Cheng Kung University (NCKU)                          0.56   public   \n",
       "\n",
       "                                                    expenses thous$  \n",
       "Name                                                                 \n",
       "National Taiwan University                                      2.0  \n",
       "National Tsing Hua University                                   0.8  \n",
       "National Taiwan University of Science and Techn...              0.9  \n",
       "National Chiao Tung University                                  0.8  \n",
       "National Cheng Kung University (NCKU)                           0.8  "
      ]
     },
     "execution_count": 3,
     "metadata": {},
     "output_type": "execute_result"
    }
   ],
   "source": [
    "data.head()"
   ]
  },
  {
   "cell_type": "code",
   "execution_count": 4,
   "metadata": {},
   "outputs": [],
   "source": [
    "import numpy as np"
   ]
  },
  {
   "cell_type": "code",
   "execution_count": 5,
   "metadata": {},
   "outputs": [
    {
     "data": {
      "text/html": [
       "<div>\n",
       "<style scoped>\n",
       "    .dataframe tbody tr th:only-of-type {\n",
       "        vertical-align: middle;\n",
       "    }\n",
       "\n",
       "    .dataframe tbody tr th {\n",
       "        vertical-align: top;\n",
       "    }\n",
       "\n",
       "    .dataframe thead th {\n",
       "        text-align: right;\n",
       "    }\n",
       "</style>\n",
       "<table border=\"1\" class=\"dataframe\">\n",
       "  <thead>\n",
       "    <tr style=\"text-align: right;\">\n",
       "      <th></th>\n",
       "      <th>Rank</th>\n",
       "      <th>No.of students</th>\n",
       "      <th>No. of students per staff</th>\n",
       "      <th>expenses thous$</th>\n",
       "    </tr>\n",
       "  </thead>\n",
       "  <tbody>\n",
       "    <tr>\n",
       "      <th>Rank</th>\n",
       "      <td>1.000000</td>\n",
       "      <td>0.011487</td>\n",
       "      <td>0.623737</td>\n",
       "      <td>-0.011167</td>\n",
       "    </tr>\n",
       "    <tr>\n",
       "      <th>No.of students</th>\n",
       "      <td>0.011487</td>\n",
       "      <td>1.000000</td>\n",
       "      <td>0.158335</td>\n",
       "      <td>0.152621</td>\n",
       "    </tr>\n",
       "    <tr>\n",
       "      <th>No. of students per staff</th>\n",
       "      <td>0.623737</td>\n",
       "      <td>0.158335</td>\n",
       "      <td>1.000000</td>\n",
       "      <td>0.118597</td>\n",
       "    </tr>\n",
       "    <tr>\n",
       "      <th>expenses thous$</th>\n",
       "      <td>-0.011167</td>\n",
       "      <td>0.152621</td>\n",
       "      <td>0.118597</td>\n",
       "      <td>1.000000</td>\n",
       "    </tr>\n",
       "  </tbody>\n",
       "</table>\n",
       "</div>"
      ],
      "text/plain": [
       "                               Rank  No.of students  \\\n",
       "Rank                       1.000000        0.011487   \n",
       "No.of students             0.011487        1.000000   \n",
       "No. of students per staff  0.623737        0.158335   \n",
       "expenses thous$           -0.011167        0.152621   \n",
       "\n",
       "                           No. of students per staff  expenses thous$  \n",
       "Rank                                        0.623737        -0.011167  \n",
       "No.of students                              0.158335         0.152621  \n",
       "No. of students per staff                   1.000000         0.118597  \n",
       "expenses thous$                             0.118597         1.000000  "
      ]
     },
     "execution_count": 5,
     "metadata": {},
     "output_type": "execute_result"
    }
   ],
   "source": [
    "data.corr() "
   ]
  },
  {
   "cell_type": "code",
   "execution_count": 8,
   "metadata": {},
   "outputs": [
    {
     "data": {
      "image/png": "[encoded data removed]",
      "text/plain": [
       "<Figure size 864x864 with 2 Axes>"
      ]
     },
     "metadata": {
      "needs_background": "light"
     },
     "output_type": "display_data"
    }
   ],
   "source": [
    "correlations = data.corr()  #计算变量之间的相关系数矩阵\n",
    "names = ['school\\nrank', 'no.of student\\nrank', 'student:faculty\\nnumber', 'expenses\\nnumber']\n",
    "# plot correlation matrix\n",
    "fig = plt.figure(figsize=(12,12)) #调用figure创建一个绘图对象\n",
    "ax = fig.add_subplot(111)\n",
    "cax = ax.matshow(correlations, vmin=-1, vmax=1)  #绘制热力图，从-1到1\n",
    "fig.colorbar(cax)  #将matshow生成热力图设置为颜色渐变条\n",
    "ticks = np.arange(0,4,1) #生成0-9，步长为1\n",
    "ax.set_xticks(ticks)  #生成刻度\n",
    "ax.set_yticks(ticks)\n",
    "ax.set_xticklabels(names) #生成x轴标签\n",
    "ax.set_yticklabels(names)\n",
    "plt.show()\n"
   ]
  },
  {
   "cell_type": "code",
   "execution_count": 31,
   "metadata": {},
   "outputs": [
    {
     "data": {
      "text/plain": [
       "<function matplotlib.pyplot.show(*args, **kw)>"
      ]
     },
     "execution_count": 31,
     "metadata": {},
     "output_type": "execute_result"
    },
    {
     "data": {
      "image/png": "[encoded data removed]",
      "text/plain": [
       "<Figure size 864x720 with 4 Axes>"
      ]
     },
     "metadata": {
      "needs_background": "light"
     },
     "output_type": "display_data"
    }
   ],
   "source": [
    "data.hist(xlabelsize=7,ylabelsize=7,figsize=(12,10))\n",
    "plt.show"
   ]
  },
  {
   "cell_type": "code",
   "execution_count": 33,
   "metadata": {},
   "outputs": [
    {
     "data": {
      "image/png": "[encoded data removed]",
      "text/plain": [
       "<Figure size 1152x576 with 3 Axes>"
      ]
     },
     "metadata": {
      "needs_background": "light"
     },
     "output_type": "display_data"
    }
   ],
   "source": [
    "plt.close()\n",
    "fig, axs = plt.subplots(1, 3, sharey=True)\n",
    "data.plot(kind='scatter', y='Rank', x='No.of students', ax=axs[0], figsize=(16, 8))\n",
    "data.plot(kind='scatter', y='Rank', x='No. of students per staff', ax=axs[1])\n",
    "data.plot(kind='scatter', y='Rank', x='expenses thous$', ax=axs[2])\n",
    "plt.show()"
   ]
  },
  {
   "cell_type": "code",
   "execution_count": null,
   "metadata": {},
   "outputs": [],
   "source": []
  }
 ],
 "metadata": {
  "kernelspec": {
   "display_name": "Python 3",
   "language": "python",
   "name": "python3"
  },
  "language_info": {
   "codemirror_mode": {
    "name": "ipython",
    "version": 3
   },
   "file_extension": ".py",
   "mimetype": "text/x-python",
   "name": "python",
   "nbconvert_exporter": "python",
   "pygments_lexer": "ipython3",
   "version": "3.6.7"
  }
 },
 "nbformat": 4,
 "nbformat_minor": 2
}
